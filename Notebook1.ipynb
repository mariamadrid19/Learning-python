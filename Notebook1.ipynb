{
 "cells": [
  {
   "cell_type": "code",
   "execution_count": 1,
   "id": "bd31b17f-1c53-4300-bbcb-b4d99dbb8088",
   "metadata": {},
   "outputs": [],
   "source": [
    "import numpy as np"
   ]
  },
  {
   "cell_type": "markdown",
   "id": "1836c9a3-9bff-4a59-b132-400e37f8388f",
   "metadata": {},
   "source": [
    "# Hello world!\n",
    "Yuca limones pera\n",
    "$$x=\\frac{1}{y}$$"
   ]
  },
  {
   "cell_type": "markdown",
   "id": "69c212af",
   "metadata": {},
   "source": [
    "![yuca](431258.jpg)"
   ]
  }
 ],
 "metadata": {
  "kernelspec": {
   "display_name": "Python 3 (ipykernel)",
   "language": "python",
   "name": "python3"
  },
  "language_info": {
   "codemirror_mode": {
    "name": "ipython",
    "version": 3
   },
   "file_extension": ".py",
   "mimetype": "text/x-python",
   "name": "python",
   "nbconvert_exporter": "python",
   "pygments_lexer": "ipython3",
   "version": "3.8.10"
  }
 },
 "nbformat": 4,
 "nbformat_minor": 5
}
